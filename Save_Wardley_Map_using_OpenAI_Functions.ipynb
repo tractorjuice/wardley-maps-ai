{
  "nbformat": 4,
  "nbformat_minor": 0,
  "metadata": {
    "colab": {
      "provenance": [],
      "authorship_tag": "ABX9TyNRrKpqHe9c7daSRIIokCYN",
      "include_colab_link": true
    },
    "kernelspec": {
      "name": "python3",
      "display_name": "Python 3"
    },
    "language_info": {
      "name": "python"
    }
  },
  "cells": [
    {
      "cell_type": "markdown",
      "metadata": {
        "id": "view-in-github",
        "colab_type": "text"
      },
      "source": [
        "<a href=\"https://colab.research.google.com/github/tractorjuice/wardley-maps-ai/blob/main/Save_Wardley_Map_using_OpenAI_Functions.ipynb\" target=\"_parent\"><img src=\"https://colab.research.google.com/assets/colab-badge.svg\" alt=\"Open In Colab\"/></a>"
      ]
    },
    {
      "cell_type": "code",
      "source": [
        "!pip install openai"
      ],
      "metadata": {
        "id": "YWlcybpXEv1I"
      },
      "execution_count": null,
      "outputs": []
    },
    {
      "cell_type": "code",
      "execution_count": null,
      "metadata": {
        "id": "2JqesKpmA14b"
      },
      "outputs": [],
      "source": [
        "import requests\n",
        "import json\n",
        "import openai\n",
        "import os\n",
        "os.environ[\"OPENAI_API_KEY\"] = \"\" #Put your OpenAI Key here.\n",
        "openai.api_key = os.getenv(\"OPENAI_API_KEY\")"
      ]
    },
    {
      "cell_type": "code",
      "source": [
        "def save_wardley_map(url, data):\n",
        "    headers = {'Content-Type': 'application/json'}\n",
        "    response = requests.post(url, headers=headers, json=data)\n",
        "\n",
        "    if response.status_code == 200:\n",
        "        return response.json()\n",
        "    else:\n",
        "        return response.status_code\n"
      ],
      "metadata": {
        "id": "4CRCfhEiBqaS"
      },
      "execution_count": null,
      "outputs": []
    },
    {
      "cell_type": "code",
      "source": [
        "response = openai.ChatCompletion.create(\n",
        "    model=\"gpt-3.5-turbo-0613\",\n",
        "    messages=[{\"role\": \"user\", \"content\": \"add the text 'title test map' and 'component fred blogss' to the wardley map gavj8ZOcEmgEIaFdGr\"}],\n",
        "    functions=[\n",
        "        {\n",
        "            \"name\": \"save_wardley_map\",\n",
        "            \"description\": \"Add text or update a Wardley Map\",\n",
        "            \"parameters\": {\n",
        "                \"type\": \"object\",\n",
        "                \"properties\": {\n",
        "                    \"id\": {\n",
        "                        \"type\": \"string\",\n",
        "                        \"description\": \"The ID of the Wardley Map\",\n",
        "                    },\n",
        "                    \"text\": {\n",
        "                        \"type\": \"string\",\n",
        "                        \"description\": \"The text to add to the Wardley Map\",\n",
        "                    },\n",
        "                },\n",
        "                \"required\": [\"id\"],\n",
        "            },\n",
        "        }\n",
        "    ],\n",
        "    function_call=\"auto\",\n",
        ")"
      ],
      "metadata": {
        "id": "8hJYQIpHE8xb"
      },
      "execution_count": null,
      "outputs": []
    },
    {
      "cell_type": "code",
      "source": [
        "print (response)"
      ],
      "metadata": {
        "id": "xTxZevj3IdIT"
      },
      "execution_count": null,
      "outputs": []
    },
    {
      "cell_type": "code",
      "source": [
        "message = response[\"choices\"][0][\"message\"]\n",
        "\n",
        "# Step 2, check if the model wants to call a function\n",
        "if message.get(\"function_call\"):\n",
        "    function_name = message[\"function_call\"][\"name\"]\n",
        "    function_args = json.loads(message[\"function_call\"][\"arguments\"])\n",
        "\n",
        "    # Step 3, call the function\n",
        "    # Note: the JSON response from the model may not be valid JSON\n",
        "    # Sample usage\n",
        "    url = 'https://api.onlinewardleymaps.com/v1/maps/save'\n",
        "    data = {\n",
        "        'id': function_args.get(\"id\"),\n",
        "        'text': function_args.get(\"text\"),\n",
        "        # include other data here...\n",
        "    }\n",
        "    function_response = save_wardley_map(url,data)\n"
      ],
      "metadata": {
        "id": "1pgzM9y9Inw0"
      },
      "execution_count": null,
      "outputs": []
    }
  ]
}